{
 "cells": [
  {
   "attachments": {},
   "cell_type": "markdown",
   "metadata": {},
   "source": [
    "# 3. Get GSE tasks for all airports"
   ]
  },
  {
   "cell_type": "code",
   "execution_count": 1,
   "metadata": {},
   "outputs": [],
   "source": [
    "import pandas as pd\n",
    "import numpy as np\n",
    "import os\n",
    "from pathlib import Path\n",
    "import datetime\n",
    "from datetime import time, timedelta\n",
    "import get_GSE_tasks as TASK\n",
    "import matplotlib.pyplot as plt"
   ]
  },
  {
   "cell_type": "code",
   "execution_count": 2,
   "metadata": {},
   "outputs": [],
   "source": [
    "def fix_time_format(date_str): # a function to fix \"24:00\" issue\n",
    "    if \"24:00\" in date_str:\n",
    "        date_part = date_str.split()[0]  # Extract date\n",
    "        new_date = datetime.strptime(date_part, \"%m/%d/%Y\") + timedelta(days=1)  # Add a day\n",
    "        return new_date.strftime(\"%m/%d/%Y 00:00\")  # Format correctly\n",
    "    return date_str"
   ]
  },
  {
   "cell_type": "code",
   "execution_count": 3,
   "metadata": {},
   "outputs": [],
   "source": [
    "## Define a function to run each airport in parallel\n",
    "\n",
    "def single_airport_add_task(file_path):\n",
    "    all_flight_data = pd.read_csv(file_path)\n",
    "    all_flight_data['Arrival_time'] = all_flight_data['Date (MM/DD/YYYY)'] + ' ' + all_flight_data['Actual Arrival Time']\n",
    "    all_flight_data['Arrival_time'] = all_flight_data['Arrival_time'].apply(fix_time_format)\n",
    "    all_flight_data['Arrival_time'] = pd.to_datetime(all_flight_data['Arrival_time'])\n",
    "    all_flight_data['aircraft_type'] = all_flight_data['Carrier Code'].apply(lambda x: 'wide' if x == 'III' else 'narrow')\n",
    "    GSE_tasks = TASK.get_gse_schedule(all_flight_data)\n",
    "    airport = os.path.basename(file_path).split('_')[0]\n",
    "    GSE_tasks.to_csv('./all_flight_GSE_tasks/{}_GSE_tasks.csv'.format(airport))    "
   ]
  },
  {
   "cell_type": "code",
   "execution_count": 4,
   "metadata": {},
   "outputs": [],
   "source": [
    "# Parallelizing using Pool.map()\n",
    "import multiprocessing as mp\n",
    "\n",
    "## All raw data\n",
    "folder_path = Path('./all_flight_arrival_data_New')\n",
    "all_files_New = folder_path.glob('*.csv')\n",
    "\n",
    "pool = mp.Pool(mp.cpu_count())\n",
    " \n",
    "results = pool.map(single_airport_add_task, list(all_files_New))\n",
    " \n",
    "pool.close()"
   ]
  }
 ],
 "metadata": {
  "kernelspec": {
   "display_name": "env",
   "language": "python",
   "name": "python3"
  },
  "language_info": {
   "codemirror_mode": {
    "name": "ipython",
    "version": 3
   },
   "file_extension": ".py",
   "mimetype": "text/x-python",
   "name": "python",
   "nbconvert_exporter": "python",
   "pygments_lexer": "ipython3",
   "version": "3.11.5"
  }
 },
 "nbformat": 4,
 "nbformat_minor": 4
}
