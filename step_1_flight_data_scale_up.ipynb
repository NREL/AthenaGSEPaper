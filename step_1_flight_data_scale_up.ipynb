{
 "cells": [
  {
   "cell_type": "markdown",
   "metadata": {},
   "source": [
    "# 1. Scale up the BTS on-time data to include international flights. The BTS T100 data and On-Time data are available at:"
   ]
  },
  {
   "cell_type": "code",
   "execution_count": 9,
   "metadata": {},
   "outputs": [],
   "source": [
    "import geopandas as gpd\n",
    "import pandas as pd"
   ]
  },
  {
   "cell_type": "code",
   "execution_count": 10,
   "metadata": {},
   "outputs": [],
   "source": [
    "# BTS T100 data, which includes total monthly arrival counts (both domestic and international) to each of the airport in 2023\n",
    "# Data source: https://www.transtats.bts.gov/DL_SelectFields.aspx?gnoyr_VQ=FMG&QO_fu146_anzr=Nv4%20Pn44vr45 \n",
    "T100_2023 = pd.read_csv('T_T100_all_2023.csv')\n",
    "\n",
    "# Group by airport and month to get the monthly total arrival counts for each airport\n",
    "monthly_arrivals_2023_all = T100_2023.groupby(['DEST', 'MONTH']).agg({'DEPARTURES_PERFORMED':'sum'}).reset_index()\n",
    "monthly_arrivals_2023_all = monthly_arrivals_2023_all.rename(columns={'DEPARTURES_PERFORMED': 'total_arrivals'})"
   ]
  },
  {
   "cell_type": "code",
   "execution_count": 5,
   "metadata": {},
   "outputs": [],
   "source": [
    "# Domestic arrivals\n",
    "monthly_arrivals_2023_domestic = T100_2023[T100_2023.ORIGIN_COUNTRY_NAME == 'United States']\n",
    "monthly_arrivals_2023_domestic = monthly_arrivals_2023_domestic.groupby(['DEST', 'MONTH']).agg({'DEPARTURES_PERFORMED':'sum'}).reset_index()\n",
    "monthly_arrivals_2023_domestic = monthly_arrivals_2023_domestic.rename(columns={'DEPARTURES_PERFORMED': 'domestic_arrivals'})"
   ]
  },
  {
   "cell_type": "code",
   "execution_count": null,
   "metadata": {},
   "outputs": [],
   "source": [
    "# International arrival\n",
    "monthly_arrivals_2023_international = T100_2023[T100_2023.ORIGIN_COUNTRY_NAME != 'United States']\n",
    "monthly_arrivals_2023_international = monthly_arrivals_2023_international.groupby(['DEST', 'MONTH']).agg({'DEPARTURES_PERFORMED':'sum'}).reset_index()\n",
    "monthly_arrivals_2023_international = monthly_arrivals_2023_international.rename(columns={'DEPARTURES_PERFORMED': 'international_arrivals'})"
   ]
  },
  {
   "cell_type": "code",
   "execution_count": 20,
   "metadata": {},
   "outputs": [],
   "source": [
    "# Merge to get a df that shows the total arrivals, domestic arrivals, and international arrivals\n",
    "monthly_arrivals_2023 = monthly_arrivals_2023_all.merge(monthly_arrivals_2023_domestic, on = ['DEST', 'MONTH'], how='outer').merge(monthly_arrivals_2023_international, on=['DEST', 'MONTH'], how='outer').fillna(0)"
   ]
  },
  {
   "cell_type": "code",
   "execution_count": 11,
   "metadata": {},
   "outputs": [],
   "source": [
    "# BTS on-time data, which contains the detailed flight arrival info, but only includes domestic flights\n",
    "all_arrivals_ontime_2023 = pd.read_csv('BTS_on_time_flight_data.csv')\n",
    "monthly_arrivals_ontime_2023 = all_arrivals_ontime_2023.groupby(['Destination Airport', 'MONTH']).size().reset_index(name='Count')\n",
    "monthly_arrivals_ontime_2023 = monthly_arrivals_ontime_2023.rename(columns={'Destination Airport': 'DEST'})"
   ]
  },
  {
   "cell_type": "code",
   "execution_count": 22,
   "metadata": {},
   "outputs": [],
   "source": [
    "# Merge the two monthly arrival dfs\n",
    "monthly_arrivals = monthly_arrivals_ontime_2023.merge(monthly_arrivals_2023, on = ['DEST', 'MONTH'], how = 'left')\n",
    "\n",
    "# Get the difference between the two monthly arrival dfs\n",
    "monthly_arrivals['domestic_diff'] = monthly_arrivals['domestic_arrivals'] - monthly_arrivals['Count']\n",
    "monthly_arrivals['international_diff'] = monthly_arrivals['international_arrivals']"
   ]
  },
  {
   "cell_type": "code",
   "execution_count": 30,
   "metadata": {},
   "outputs": [],
   "source": [
    "days_in_month = {\n",
    "    1: 31, 2: 28, 3: 31, 4: 30,\n",
    "    5: 31, 6: 30, 7: 31, 8: 31,\n",
    "    9: 30, 10: 31, 11: 30, 12: 31\n",
    "}"
   ]
  },
  {
   "cell_type": "code",
   "execution_count": 32,
   "metadata": {},
   "outputs": [],
   "source": [
    "monthly_arrivals['days'] = monthly_arrivals['MONTH'].map(days_in_month)"
   ]
  },
  {
   "cell_type": "code",
   "execution_count": 42,
   "metadata": {},
   "outputs": [
    {
     "data": {
      "text/html": [
       "<div>\n",
       "<style scoped>\n",
       "    .dataframe tbody tr th:only-of-type {\n",
       "        vertical-align: middle;\n",
       "    }\n",
       "\n",
       "    .dataframe tbody tr th {\n",
       "        vertical-align: top;\n",
       "    }\n",
       "\n",
       "    .dataframe thead th {\n",
       "        text-align: right;\n",
       "    }\n",
       "</style>\n",
       "<table border=\"1\" class=\"dataframe\">\n",
       "  <thead>\n",
       "    <tr style=\"text-align: right;\">\n",
       "      <th></th>\n",
       "      <th>Destination Airport</th>\n",
       "      <th>hour</th>\n",
       "      <th>Count</th>\n",
       "      <th>Total_count</th>\n",
       "      <th>arrival_probability</th>\n",
       "    </tr>\n",
       "  </thead>\n",
       "  <tbody>\n",
       "    <tr>\n",
       "      <th>0</th>\n",
       "      <td>ABE</td>\n",
       "      <td>0</td>\n",
       "      <td>153</td>\n",
       "      <td>4408</td>\n",
       "      <td>0.034710</td>\n",
       "    </tr>\n",
       "    <tr>\n",
       "      <th>1</th>\n",
       "      <td>ABE</td>\n",
       "      <td>1</td>\n",
       "      <td>28</td>\n",
       "      <td>4408</td>\n",
       "      <td>0.006352</td>\n",
       "    </tr>\n",
       "    <tr>\n",
       "      <th>2</th>\n",
       "      <td>ABE</td>\n",
       "      <td>2</td>\n",
       "      <td>10</td>\n",
       "      <td>4408</td>\n",
       "      <td>0.002269</td>\n",
       "    </tr>\n",
       "    <tr>\n",
       "      <th>3</th>\n",
       "      <td>ABE</td>\n",
       "      <td>3</td>\n",
       "      <td>1</td>\n",
       "      <td>4408</td>\n",
       "      <td>0.000227</td>\n",
       "    </tr>\n",
       "    <tr>\n",
       "      <th>4</th>\n",
       "      <td>ABE</td>\n",
       "      <td>8</td>\n",
       "      <td>3</td>\n",
       "      <td>4408</td>\n",
       "      <td>0.000681</td>\n",
       "    </tr>\n",
       "    <tr>\n",
       "      <th>...</th>\n",
       "      <td>...</td>\n",
       "      <td>...</td>\n",
       "      <td>...</td>\n",
       "      <td>...</td>\n",
       "      <td>...</td>\n",
       "    </tr>\n",
       "    <tr>\n",
       "      <th>6568</th>\n",
       "      <td>YUM</td>\n",
       "      <td>19</td>\n",
       "      <td>16</td>\n",
       "      <td>1740</td>\n",
       "      <td>0.009195</td>\n",
       "    </tr>\n",
       "    <tr>\n",
       "      <th>6569</th>\n",
       "      <td>YUM</td>\n",
       "      <td>20</td>\n",
       "      <td>51</td>\n",
       "      <td>1740</td>\n",
       "      <td>0.029310</td>\n",
       "    </tr>\n",
       "    <tr>\n",
       "      <th>6570</th>\n",
       "      <td>YUM</td>\n",
       "      <td>21</td>\n",
       "      <td>261</td>\n",
       "      <td>1740</td>\n",
       "      <td>0.150000</td>\n",
       "    </tr>\n",
       "    <tr>\n",
       "      <th>6571</th>\n",
       "      <td>YUM</td>\n",
       "      <td>22</td>\n",
       "      <td>114</td>\n",
       "      <td>1740</td>\n",
       "      <td>0.065517</td>\n",
       "    </tr>\n",
       "    <tr>\n",
       "      <th>6572</th>\n",
       "      <td>YUM</td>\n",
       "      <td>23</td>\n",
       "      <td>70</td>\n",
       "      <td>1740</td>\n",
       "      <td>0.040230</td>\n",
       "    </tr>\n",
       "  </tbody>\n",
       "</table>\n",
       "<p>6573 rows × 5 columns</p>\n",
       "</div>"
      ],
      "text/plain": [
       "     Destination Airport  hour  Count  Total_count  arrival_probability\n",
       "0                    ABE     0    153         4408             0.034710\n",
       "1                    ABE     1     28         4408             0.006352\n",
       "2                    ABE     2     10         4408             0.002269\n",
       "3                    ABE     3      1         4408             0.000227\n",
       "4                    ABE     8      3         4408             0.000681\n",
       "...                  ...   ...    ...          ...                  ...\n",
       "6568                 YUM    19     16         1740             0.009195\n",
       "6569                 YUM    20     51         1740             0.029310\n",
       "6570                 YUM    21    261         1740             0.150000\n",
       "6571                 YUM    22    114         1740             0.065517\n",
       "6572                 YUM    23     70         1740             0.040230\n",
       "\n",
       "[6573 rows x 5 columns]"
      ]
     },
     "execution_count": 42,
     "metadata": {},
     "output_type": "execute_result"
    }
   ],
   "source": [
    "# get flight arrival distribution\n",
    "all_arrivals_ontime_2023['Actual Arrival Time'] = all_arrivals_ontime_2023['Actual Arrival Time'].replace('24:00', '00:00')\n",
    "all_arrivals_ontime_2023['hour'] = all_arrivals_ontime_2023['Actual Arrival Time'].apply(lambda x: x.split(':')[0])\n",
    "arrival_distribution = all_arrivals_ontime_2023.groupby(['Destination Airport', 'hour']).size().reset_index(name='Count')\n",
    "total_arrival_per_airport = arrival_distribution.groupby('Destination Airport').agg({'Count': 'sum'}).reset_index()\n",
    "total_arrival_per_airport = total_arrival_per_airport.rename(columns = {'Count': 'Total_count'})\n",
    "arrival_distribution = arrival_distribution.merge(total_arrival_per_airport, on = 'Destination Airport', how = 'left')\n",
    "arrival_distribution['arrival_probability'] = arrival_distribution['Count']/ arrival_distribution['Total_count']\n",
    "arrival_distribution['hour'] = arrival_distribution['hour'].apply(lambda x: int(x))\n",
    "arrival_distribution"
   ]
  },
  {
   "cell_type": "code",
   "execution_count": 45,
   "metadata": {},
   "outputs": [],
   "source": [
    "# insert flights\n",
    "import random\n",
    "from datetime import datetime, timedelta\n",
    "import numpy as np\n",
    "from datetime import date\n",
    "\n",
    "def random_time(df):\n",
    "    hour = np.random.choice(df['hour'], p=df['arrival_probability'])  # choose hour (0-23) based on the distribution\n",
    "    minute = random.randint(0, 59)  # Random minute (0-59)\n",
    "    return f\"{hour:02d}:{minute:02d}\"  # Format as HH:MM"
   ]
  },
  {
   "cell_type": "code",
   "execution_count": 66,
   "metadata": {},
   "outputs": [],
   "source": [
    "def insert_arrival(BTS_on_time_df, monthly_arrivals_df, arrival_distribution, airport):\n",
    "    domes_add_list = []\n",
    "    inter_add_list = []\n",
    "    all_flights = pd.DataFrame()\n",
    "    for i in range(len(monthly_arrivals_df)):\n",
    "        month = monthly_arrivals_df['MONTH'].iloc[i]\n",
    "        domestic_diff = monthly_arrivals_df['domestic_diff'].iloc[i]\n",
    "        international_diff = monthly_arrivals_df['international_diff'].iloc[i]\n",
    "        days = monthly_arrivals_df['days'].iloc[i]\n",
    "    \n",
    "        for i in range(int(domestic_diff)):\n",
    "            day = random.randint(1, days)\n",
    "            f_date = date(2023, month, day).strftime(\"%m/%d/%Y\")\n",
    "            arrival_time = random_time(arrival_distribution)\n",
    "            domes_add_df = pd.DataFrame({'Carrier Code': ['DDD'], 'Date (MM/DD/YYYY)': [f_date], 'Flight Number': ['0000'],\n",
    "                                        'Tail Number': ['OOOO'], 'Origin Airport': ['NNN'], 'Actual Arrival Time': [arrival_time],'Destination Airport': [airport]})\n",
    "            domes_add_list.append(domes_add_df)\n",
    "        for j in range(int(international_diff)):\n",
    "            day = random.randint(1, days)\n",
    "            f_date = date(2023, month, day).strftime(\"%m/%d/%Y\")\n",
    "            arrival_time = random_time(arrival_distribution)\n",
    "            inter_add_df = pd.DataFrame({'Carrier Code': ['III'], 'Date (MM/DD/YYYY)': [f_date], 'Flight Number': ['0000'],\n",
    "                                        'Tail Number': ['OOOO'], 'Origin Airport': ['NNN'], 'Actual Arrival Time': [arrival_time],'Destination Airport': [airport]})\n",
    "            inter_add_list.append(inter_add_df)\n",
    "    if len(domes_add_list)>0:\n",
    "        domes_add = pd.concat(domes_add_list)\n",
    "        all_flights = pd.concat([BTS_on_time_df, domes_add])\n",
    "    else:\n",
    "        all_flights = BTS_on_time_df\n",
    "        \n",
    "    if len(inter_add_list)>0:\n",
    "        inter_add = pd.concat(inter_add_list)\n",
    "        all_flights = pd.concat([all_flights, inter_add])\n",
    "\n",
    "    all_flights = all_flights[['Carrier Code', 'Date (MM/DD/YYYY)', 'Flight Number', 'Tail Number', 'Origin Airport', 'Actual Arrival Time','Destination Airport']]\n",
    "    return all_flights"
   ]
  },
  {
   "cell_type": "code",
   "execution_count": 52,
   "metadata": {},
   "outputs": [],
   "source": [
    "BTS_on_time_dfs = [group for _,group in all_arrivals_ontime_2023.groupby('Destination Airport')]\n",
    "monthly_arrivals_dfs = [group for _,group in monthly_arrivals.groupby('DEST')]\n",
    "arrival_distribution_dfs = [group for _,group in arrival_distribution.groupby('Destination Airport')]"
   ]
  },
  {
   "cell_type": "code",
   "execution_count": null,
   "metadata": {},
   "outputs": [],
   "source": [
    "# Loop through each flight to scale up the flight arrivals\n",
    "for i in range(len(BTS_on_time_dfs)):\n",
    "    BTS_on_time_df = BTS_on_time_dfs[i]\n",
    "    airport = BTS_on_time_df['Destination Airport'].iloc[0]\n",
    "    monthly_arrivals_df = next(df for df in monthly_arrivals_dfs if 'DEST' in df.columns and df['DEST'].astype(str).str.contains(airport, case=False, na=False).any())\n",
    "    arrival_distribution = next(df for df in arrival_distribution_dfs if 'Destination Airport' in df.columns and df['Destination Airport'].astype(str).str.contains(airport, case=False, na=False).any())\n",
    "    all_flights = insert_arrival(BTS_on_time_df, monthly_arrivals_df, arrival_distribution, airport)\n",
    "    all_flights.to_csv(f'/all_flight_arrival_data/{airport}_all_flight_arrival_data.csv')\n"
   ]
  }
 ],
 "metadata": {
  "kernelspec": {
   "display_name": "Python 3 (ipykernel)",
   "language": "python",
   "name": "python3"
  },
  "language_info": {
   "codemirror_mode": {
    "name": "ipython",
    "version": 3
   },
   "file_extension": ".py",
   "mimetype": "text/x-python",
   "name": "python",
   "nbconvert_exporter": "python",
   "pygments_lexer": "ipython3",
   "version": "3.9.18"
  }
 },
 "nbformat": 4,
 "nbformat_minor": 4
}
