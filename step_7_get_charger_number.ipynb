{
 "cells": [
  {
   "cell_type": "code",
   "execution_count": 1,
   "metadata": {},
   "outputs": [],
   "source": [
    "import pandas as pd\n",
    "import numpy as np\n",
    "from pathlib import Path\n",
    "import os\n",
    "from datetime import timedelta\n",
    "from datetime import datetime, time\n",
    "import math\n"
   ]
  },
  {
   "cell_type": "code",
   "execution_count": 7,
   "metadata": {},
   "outputs": [],
   "source": [
    "# charging scenario S1\n",
    "folder_path = Path('./all_flight_load_profiles/S1_SOC_insufficient_40')\n",
    "GSE_charger_count_list = []\n",
    "airport_list = []\n",
    "for file_path in folder_path.glob('*.csv'):\n",
    "    load_profile = pd.read_csv(file_path)\n",
    "    airport = os.path.basename(file_path).split('_')[0]\n",
    "    GSE_charger_count = load_profile['count'].max()\n",
    "    airport_list.append(airport)\n",
    "    GSE_charger_count_list.append(GSE_charger_count)\n",
    "GSE_charger_count_df = pd.DataFrame({'airport': airport_list, 'charger_count': GSE_charger_count_list})"
   ]
  },
  {
   "cell_type": "code",
   "execution_count": 9,
   "metadata": {},
   "outputs": [],
   "source": [
    "GSE_charger_count_df.to_csv('./all_flight_GSE_charger_count/GSE_charger_count_S1.csv')"
   ]
  },
  {
   "cell_type": "code",
   "execution_count": 10,
   "metadata": {},
   "outputs": [],
   "source": [
    "# charging scenario S2\n",
    "folder_path = Path('./all_flight_load_profiles/S2_SOC_insufficient_20')\n",
    "GSE_charger_count_list = []\n",
    "airport_list = []\n",
    "for file_path in folder_path.glob('*.csv'):\n",
    "    load_profile = pd.read_csv(file_path)\n",
    "    airport = os.path.basename(file_path).split('_')[0]\n",
    "    GSE_charger_count = load_profile['count'].max()\n",
    "    airport_list.append(airport)\n",
    "    GSE_charger_count_list.append(GSE_charger_count)\n",
    "GSE_charger_count_df_2 = pd.DataFrame({'airport': airport_list, 'charger_count': GSE_charger_count_list})"
   ]
  },
  {
   "cell_type": "code",
   "execution_count": 12,
   "metadata": {},
   "outputs": [],
   "source": [
    "GSE_charger_count_df_2.to_csv('./all_flight_GSE_charger_count/GSE_charger_count_S2.csv')"
   ]
  },
  {
   "cell_type": "code",
   "execution_count": 13,
   "metadata": {},
   "outputs": [],
   "source": [
    "# charging scenario S3\n",
    "folder_path = Path('./all_flight_load_profiles/S3_charge_during_service_gaps_40')\n",
    "GSE_charger_count_list = []\n",
    "airport_list = []\n",
    "for file_path in folder_path.glob('*.csv'):\n",
    "    load_profile = pd.read_csv(file_path)\n",
    "    airport = os.path.basename(file_path).split('_')[0]\n",
    "    GSE_charger_count = load_profile['count'].max()\n",
    "    airport_list.append(airport)\n",
    "    GSE_charger_count_list.append(GSE_charger_count)\n",
    "GSE_charger_count_df_3 = pd.DataFrame({'airport': airport_list, 'charger_count': GSE_charger_count_list})"
   ]
  },
  {
   "cell_type": "code",
   "execution_count": 15,
   "metadata": {},
   "outputs": [],
   "source": [
    "GSE_charger_count_df_3.to_csv('./all_flight_GSE_charger_count/GSE_charger_count_S3.csv')"
   ]
  },
  {
   "cell_type": "code",
   "execution_count": 16,
   "metadata": {},
   "outputs": [],
   "source": [
    "# charging scenario S4\n",
    "folder_path = Path('./all_flight_load_profiles/S4_charge_during_service_gaps_20')\n",
    "GSE_charger_count_list = []\n",
    "airport_list = []\n",
    "for file_path in folder_path.glob('*.csv'):\n",
    "    load_profile = pd.read_csv(file_path)\n",
    "    airport = os.path.basename(file_path).split('_')[0]\n",
    "    GSE_charger_count = load_profile['count'].max()\n",
    "    airport_list.append(airport)\n",
    "    GSE_charger_count_list.append(GSE_charger_count)\n",
    "GSE_charger_count_df_4 = pd.DataFrame({'airport': airport_list, 'charger_count': GSE_charger_count_list})"
   ]
  },
  {
   "cell_type": "code",
   "execution_count": 18,
   "metadata": {},
   "outputs": [],
   "source": [
    "GSE_charger_count_df_4.to_csv('./all_flight_GSE_charger_count/GSE_charger_count_S4.csv')"
   ]
  },
  {
   "cell_type": "code",
   "execution_count": 19,
   "metadata": {},
   "outputs": [],
   "source": [
    "# charging scenario S5\n",
    "folder_path = Path('./all_flight_load_profiles/S5_charge_overnight_40')\n",
    "GSE_charger_count_list = []\n",
    "airport_list = []\n",
    "for file_path in folder_path.glob('*.csv'):\n",
    "    load_profile = pd.read_csv(file_path)\n",
    "    airport = os.path.basename(file_path).split('_')[0]\n",
    "    GSE_charger_count = load_profile['count'].max()\n",
    "    airport_list.append(airport)\n",
    "    GSE_charger_count_list.append(GSE_charger_count)\n",
    "GSE_charger_count_df_5 = pd.DataFrame({'airport': airport_list, 'charger_count': GSE_charger_count_list})"
   ]
  },
  {
   "cell_type": "code",
   "execution_count": 21,
   "metadata": {},
   "outputs": [],
   "source": [
    "GSE_charger_count_df_5.to_csv('./all_flight_GSE_charger_count/GSE_charger_count_S5.csv')"
   ]
  },
  {
   "cell_type": "code",
   "execution_count": 22,
   "metadata": {},
   "outputs": [],
   "source": [
    "# charging scenario S6\n",
    "folder_path = Path('./all_flight_load_profiles/S6_charge_overnight_20')\n",
    "GSE_charger_count_list = []\n",
    "airport_list = []\n",
    "for file_path in folder_path.glob('*.csv'):\n",
    "    load_profile = pd.read_csv(file_path)\n",
    "    airport = os.path.basename(file_path).split('_')[0]\n",
    "    GSE_charger_count = load_profile['count'].max()\n",
    "    airport_list.append(airport)\n",
    "    GSE_charger_count_list.append(GSE_charger_count)\n",
    "GSE_charger_count_df_6 = pd.DataFrame({'airport': airport_list, 'charger_count': GSE_charger_count_list})"
   ]
  },
  {
   "cell_type": "code",
   "execution_count": 24,
   "metadata": {},
   "outputs": [],
   "source": [
    "GSE_charger_count_df_6.to_csv('./all_flight_GSE_charger_count/GSE_charger_count_S6.csv')"
   ]
  }
 ],
 "metadata": {
  "kernelspec": {
   "display_name": "env",
   "language": "python",
   "name": "python3"
  },
  "language_info": {
   "codemirror_mode": {
    "name": "ipython",
    "version": 3
   },
   "file_extension": ".py",
   "mimetype": "text/x-python",
   "name": "python",
   "nbconvert_exporter": "python",
   "pygments_lexer": "ipython3",
   "version": "3.11.5"
  }
 },
 "nbformat": 4,
 "nbformat_minor": 4
}
