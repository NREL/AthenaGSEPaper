{
 "cells": [
  {
   "cell_type": "code",
   "execution_count": 15,
   "metadata": {},
   "outputs": [],
   "source": [
    "import pandas as pd\n",
    "import numpy as np\n",
    "from pathlib import Path\n",
    "import os\n",
    "from datetime import timedelta\n",
    "from datetime import datetime, time\n",
    "import math\n"
   ]
  },
  {
   "cell_type": "code",
   "execution_count": 16,
   "metadata": {},
   "outputs": [],
   "source": [
    "# calculate number of vehicles needed\n",
    "\n",
    "def cal_veh_count(GSE_events):\n",
    " \n",
    "    GPU_counts_narrow = 0\n",
    "    GPU_counts_wide = 0\n",
    "    aircraft_tractor_counts_narrow = 0\n",
    "    aircraft_tractor_counts_wide = 0\n",
    "    baggage_tractor_counts = 0\n",
    "    cargo_loader_counts_wide = 0\n",
    "    belt_loader_counts_narrow = 0\n",
    "    belt_loader_counts_wide = 0\n",
    "    cater_truck_counts = 0\n",
    "    lav_truck_counts_narrow = 0\n",
    "    lav_truck_counts_wide = 0\n",
    "    water_truck_counts_narrow = 0\n",
    "    water_truck_counts_wide = 0\n",
    "\n",
    "    # GSE vehicles are shared within each airline\n",
    "    airline_groups = [group for _,group in GSE_events.groupby('airline')]\n",
    "    # wide-body and narrow-body aircraft use the same type of baggage tractors and catering trucks\n",
    "    for i in range(len(airline_groups)):\n",
    "        GSE_events_i = airline_groups[i]\n",
    "        baggage_tractor_counts += GSE_events_i[GSE_events_i.GSE_type == 'baggage tractor'].veh_id.max()\n",
    "        cater_truck_counts += GSE_events_i[GSE_events_i.GSE_type == 'catering truck'].veh_id.max()\n",
    "    \n",
    "    # wide-body and narrow-body aircraft use different types of other GSE vehicles\n",
    "    narrow_body_events = GSE_events[GSE_events['aircraft_type'] == 'narrow']\n",
    "    wide_body_events = GSE_events[GSE_events['aircraft_type'] == 'wide']\n",
    "    narrow_body_events_airline_groups = [group for _,group in narrow_body_events.groupby('airline')]\n",
    "    wide_body_events_airline_groups = [group for _,group in wide_body_events.groupby('airline')]\n",
    "\n",
    "    for j in range(len(narrow_body_events_airline_groups)):\n",
    "        GSE_events_narrow_j = narrow_body_events_airline_groups[j]\n",
    "        GPU_counts_narrow += GSE_events_narrow_j[GSE_events_narrow_j.GSE_type == 'GPU'].veh_id.max()\n",
    "        aircraft_tractor_counts_narrow += GSE_events_narrow_j[GSE_events_narrow_j.GSE_type == 'aircraft tractor'].veh_id.max()\n",
    "        belt_loader_counts_narrow += GSE_events_narrow_j[GSE_events_narrow_j.GSE_type == 'belt loader'].veh_id.max()\n",
    "        lav_truck_counts_narrow += GSE_events_narrow_j[GSE_events_narrow_j.GSE_type == 'lavatory truck'].veh_id.max()\n",
    "        water_truck_counts_narrow += GSE_events_narrow_j[GSE_events_narrow_j.GSE_type == 'water truck'].veh_id.max()\n",
    "    for k in range(len(wide_body_events_airline_groups)):\n",
    "        GSE_events_wide_k = wide_body_events_airline_groups[k]\n",
    "        GPU_counts_wide += GSE_events_wide_k[GSE_events_wide_k.GSE_type == 'GPU'].veh_id.max()\n",
    "        aircraft_tractor_counts_wide += GSE_events_wide_k[GSE_events_wide_k.GSE_type == 'aircraft tractor'].veh_id.max()\n",
    "        belt_loader_counts_wide += GSE_events_wide_k[GSE_events_wide_k.GSE_type == 'belt loader'].veh_id.max()\n",
    "        lav_truck_counts_wide += GSE_events_wide_k[GSE_events_wide_k.GSE_type == 'lavatory truck'].veh_id.max()\n",
    "        water_truck_counts_wide += GSE_events_wide_k[GSE_events_wide_k.GSE_type == 'water truck'].veh_id.max()\n",
    "        cargo_loader_counts_wide += GSE_events_wide_k[GSE_events_wide_k.GSE_type == 'cargo loader'].veh_id.max()\n",
    "        \n",
    "    GSE_vehicle_count_list = {'baggage_tractor_counts': int(baggage_tractor_counts), 'cater_truck_counts': int(cater_truck_counts), \\\n",
    "                              'GPU_counts_narrow': int(GPU_counts_narrow), 'aircraft_tractor_counts_narrow': int(aircraft_tractor_counts_narrow), \\\n",
    "                              'belt_loader_counts_narrow': int(belt_loader_counts_narrow), 'lav_truck_counts_narrow': int(lav_truck_counts_narrow), \\\n",
    "                              'water_truck_counts_narrow': int(water_truck_counts_narrow), \\\n",
    "                              'GPU_counts_wide': int(GPU_counts_wide), 'aircraft_tractor_counts_wide': int(aircraft_tractor_counts_wide), \\\n",
    "                              'belt_loader_counts_wide': int(belt_loader_counts_wide), 'lav_truck_counts_wide': int(lav_truck_counts_wide), \\\n",
    "                              'water_truck_counts_wide': int(water_truck_counts_wide), 'cargo_loader_counts_wide': int(cargo_loader_counts_wide)\n",
    "                               }\n",
    "    return GSE_vehicle_count_list\n"
   ]
  },
  {
   "cell_type": "code",
   "execution_count": 17,
   "metadata": {},
   "outputs": [],
   "source": [
    "test = pd.read_csv('./all_flight_GSE_events/S1_SOC_insufficient_40/ABE_GSE_events.csv')\n",
    "veh_count = cal_veh_count(test)"
   ]
  },
  {
   "cell_type": "code",
   "execution_count": 18,
   "metadata": {},
   "outputs": [
    {
     "data": {
      "text/plain": [
       "{'baggage_tractor_counts': 35,\n",
       " 'cater_truck_counts': 21,\n",
       " 'GPU_counts_narrow': 20,\n",
       " 'aircraft_tractor_counts_narrow': 16,\n",
       " 'belt_loader_counts_narrow': 17,\n",
       " 'lav_truck_counts_narrow': 14,\n",
       " 'water_truck_counts_narrow': 15,\n",
       " 'GPU_counts_wide': 1,\n",
       " 'aircraft_tractor_counts_wide': 1,\n",
       " 'belt_loader_counts_wide': 1,\n",
       " 'lav_truck_counts_wide': 1,\n",
       " 'water_truck_counts_wide': 1,\n",
       " 'cargo_loader_counts_wide': 2}"
      ]
     },
     "execution_count": 18,
     "metadata": {},
     "output_type": "execute_result"
    }
   ],
   "source": [
    "veh_count"
   ]
  },
  {
   "cell_type": "code",
   "execution_count": 21,
   "metadata": {},
   "outputs": [],
   "source": [
    "## Define a function to run each airport in parallel\n",
    "def single_airport_veh_count(file_path):\n",
    "    all_events = pd.read_csv(file_path, parse_dates=['start_time', 'end_time'])\n",
    "    airport = os.path.basename(file_path).split('_')[0]\n",
    "    # add aircraft_type information\n",
    "    import glob\n",
    "    GSE_tasks = pd.read_csv(glob.glob(f\"./all_flight_GSE_tasks/*{airport}*.csv\")[0])\n",
    "    GSE_tasks = GSE_tasks[['airline', 'aircraft_type']].drop_duplicates()\n",
    "    if 'aircraft_type' not in all_events.columns:\n",
    "        all_events = pd.merge(all_events, GSE_tasks, on = 'airline', how = 'left')\n",
    "\n",
    "    GSE_vehicle_count_list = cal_veh_count(all_events)\n",
    "    GSE_vehicle_count_list['airport'] = airport\n",
    "    return GSE_vehicle_count_list"
   ]
  },
  {
   "cell_type": "code",
   "execution_count": 22,
   "metadata": {},
   "outputs": [
    {
     "name": "stdout",
     "output_type": "stream",
     "text": [
      "Time Used:  83.76994132995605\n"
     ]
    }
   ],
   "source": [
    "# Parallelizing using Pool.map()\n",
    "import multiprocessing as mp\n",
    "import time\n",
    "\n",
    "ts = time.time()\n",
    "scenario_folders = ['S1_SOC_insufficient_40','S2_SOC_insufficient_20',\n",
    "                   'S3_charge_during_service_gaps_40','S4_charge_during_service_gaps_20',\n",
    "                   'S5_charge_overnight_40','S6_charge_overnight_20']\n",
    "\n",
    "for scenario_folder in scenario_folders:\n",
    "    folder_path = Path('./all_flight_GSE_events/{}'.format(scenario_folder))\n",
    "    all_files = folder_path.glob('*.csv')\n",
    "\n",
    "    pool = mp.Pool(mp.cpu_count())\n",
    "     \n",
    "    results = pool.map(single_airport_veh_count, list(all_files))\n",
    "     \n",
    "    pool.close()\n",
    "    GSE_vehicle_count_df = pd.DataFrame(results)\n",
    "    sce_short = scenario_folder.split('_')[0]\n",
    "    GSE_vehicle_count_df.to_csv('./all_flight_GSE_vehicle_count/GSE_vehicle_count_{}.csv'.format(sce_short))\n",
    "te = time.time()\n",
    "print('Time Used: ', te-ts)"
   ]
  }
 ],
 "metadata": {
  "kernelspec": {
   "display_name": "env",
   "language": "python",
   "name": "python3"
  },
  "language_info": {
   "codemirror_mode": {
    "name": "ipython",
    "version": 3
   },
   "file_extension": ".py",
   "mimetype": "text/x-python",
   "name": "python",
   "nbconvert_exporter": "python",
   "pygments_lexer": "ipython3",
   "version": "3.11.5"
  }
 },
 "nbformat": 4,
 "nbformat_minor": 4
}
